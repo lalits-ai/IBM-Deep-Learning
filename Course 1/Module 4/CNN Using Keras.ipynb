{
 "cells": [
  {
   "cell_type": "code",
   "execution_count": 1,
   "id": "c2a0df52-d554-41de-87ac-a84d62df18ce",
   "metadata": {},
   "outputs": [],
   "source": [
    "import numpy as np\n",
    "\n",
    "import warnings\n",
    "warnings.filterwarnings('ignore')"
   ]
  },
  {
   "cell_type": "code",
   "execution_count": 2,
   "id": "347fc775-d2d8-4d1a-a7d9-fd062c63cc0a",
   "metadata": {},
   "outputs": [],
   "source": [
    "from keras.datasets import mnist\n",
    "from keras.models import Sequential\n",
    "from keras.layers import Dense\n",
    "from keras.utils import to_categorical"
   ]
  },
  {
   "cell_type": "code",
   "execution_count": 3,
   "id": "2299b667-9be3-4b87-9dbd-ccfe4549c60e",
   "metadata": {},
   "outputs": [],
   "source": [
    "from keras.layers import Conv2D\n",
    "from keras.layers import MaxPooling2D\n",
    "from keras.layers import Flatten\n",
    "\n",
    "# Similar to from keras.layers import Conv2D, MaxPooling2D, Flatten"
   ]
  },
  {
   "cell_type": "code",
   "execution_count": 12,
   "id": "6a7bb77c-b650-4276-a83c-d886cb0535d5",
   "metadata": {},
   "outputs": [],
   "source": [
    "(X_train, y_train), (X_test, y_test) = mnist.load_data()\n",
    "\n",
    "X_train = X_train.reshape(X_train.shape[0], 28, 28, 1).astype('float32')\n",
    "X_test = X_test.reshape(X_test.shape[0], 28, 28, 1).astype('float32')"
   ]
  },
  {
   "cell_type": "code",
   "execution_count": 13,
   "id": "19f8efcb-1acf-4887-ae19-b52916763168",
   "metadata": {},
   "outputs": [],
   "source": [
    "X_train = X_train/255\n",
    "X_test = X_test/255"
   ]
  },
  {
   "cell_type": "code",
   "execution_count": 14,
   "id": "3d6823e5-736b-4fb2-b9bb-865c5f4e97e3",
   "metadata": {},
   "outputs": [
    {
     "name": "stdout",
     "output_type": "stream",
     "text": [
      "10\n"
     ]
    }
   ],
   "source": [
    "# One Hot Encoding, give 10 new feautres, that's why 10 number of classes\n",
    "\n",
    "y_train = to_categorical(y_train)\n",
    "y_test = to_categorical(y_test)\n",
    "\n",
    "num_classes = y_test.shape[1]\n",
    "print(num_classes)"
   ]
  },
  {
   "cell_type": "code",
   "execution_count": 15,
   "id": "c48233b2-e6c6-4b58-bd7f-b1f615cb572c",
   "metadata": {},
   "outputs": [],
   "source": [
    "def convolutional_model():\n",
    "    model = Sequential()\n",
    "    input_shape = (28, 28, 1)\n",
    "    model.add(Conv2D(16, kernel_size=(5, 5), strides=(1, 1), activation='relu', input_shape=input_shape))\n",
    "    model.add(MaxPooling2D(pool_size=(2, 2), strides=(2, 2)))\n",
    "    \n",
    "    model.add(Flatten())\n",
    "    model.add(Dense(100, activation='relu'))\n",
    "    model.add(Dense(num_classes, activation='softmax'))\n",
    "\n",
    "    model.compile(optimizer='adam', loss='categorical_crossentropy', metrics=['accuracy'])\n",
    "    return model"
   ]
  },
  {
   "cell_type": "code",
   "execution_count": 16,
   "id": "fb393675-f184-4e3f-b49c-336b68ed7837",
   "metadata": {},
   "outputs": [
    {
     "name": "stdout",
     "output_type": "stream",
     "text": [
      "Epoch 1/10\n",
      "300/300 - 4s - 15ms/step - accuracy: 0.9164 - loss: 0.2908 - val_accuracy: 0.9659 - val_loss: 0.1159\n",
      "Epoch 2/10\n",
      "300/300 - 3s - 11ms/step - accuracy: 0.9748 - loss: 0.0880 - val_accuracy: 0.9794 - val_loss: 0.0668\n",
      "Epoch 3/10\n",
      "300/300 - 3s - 11ms/step - accuracy: 0.9825 - loss: 0.0599 - val_accuracy: 0.9823 - val_loss: 0.0559\n",
      "Epoch 4/10\n",
      "300/300 - 3s - 11ms/step - accuracy: 0.9863 - loss: 0.0451 - val_accuracy: 0.9841 - val_loss: 0.0498\n",
      "Epoch 5/10\n",
      "300/300 - 3s - 11ms/step - accuracy: 0.9890 - loss: 0.0366 - val_accuracy: 0.9857 - val_loss: 0.0413\n",
      "Epoch 6/10\n",
      "300/300 - 4s - 14ms/step - accuracy: 0.9911 - loss: 0.0295 - val_accuracy: 0.9873 - val_loss: 0.0398\n",
      "Epoch 7/10\n",
      "300/300 - 4s - 14ms/step - accuracy: 0.9924 - loss: 0.0248 - val_accuracy: 0.9879 - val_loss: 0.0368\n",
      "Epoch 8/10\n",
      "300/300 - 4s - 13ms/step - accuracy: 0.9938 - loss: 0.0199 - val_accuracy: 0.9881 - val_loss: 0.0362\n",
      "Epoch 9/10\n",
      "300/300 - 5s - 15ms/step - accuracy: 0.9949 - loss: 0.0172 - val_accuracy: 0.9874 - val_loss: 0.0385\n",
      "Epoch 10/10\n",
      "300/300 - 4s - 15ms/step - accuracy: 0.9958 - loss: 0.0139 - val_accuracy: 0.9883 - val_loss: 0.0369\n",
      "\u001b[1m313/313\u001b[0m \u001b[32m━━━━━━━━━━━━━━━━━━━━\u001b[0m\u001b[37m\u001b[0m \u001b[1m1s\u001b[0m 1ms/step - accuracy: 0.9850 - loss: 0.0463\n",
      "Accuracy: 0.9883000254631042\n",
      "Error: 0.011699974536895752\n"
     ]
    }
   ],
   "source": [
    "model = convolutional_model()\n",
    "\n",
    "model.fit(X_train, y_train, validation_data=(X_test, y_test), batch_size=200, epochs=10, verbose=2)\n",
    "\n",
    "scores = model.evaluate(X_test, y_test)\n",
    "\n",
    "print(f\"Accuracy: {scores[1]}\\nError: {1-scores[1]}\")"
   ]
  },
  {
   "cell_type": "code",
   "execution_count": 20,
   "id": "5ff6fdb8-dae1-4169-9072-b76e4c34ca28",
   "metadata": {},
   "outputs": [],
   "source": [
    "def convolutional_model():\n",
    "    \n",
    "    # create model\n",
    "    model = Sequential()\n",
    "    input_shape = (28, 28, 1)\n",
    "    model.add(Conv2D(16, kernel_size=(5, 5), strides=(1, 1), activation='relu', input_shape=input_shape))\n",
    "    model.add(MaxPooling2D(pool_size=(2, 2), strides=(2, 2)))\n",
    "    \n",
    "    model.add(Conv2D(8, (2, 2), activation='relu'))\n",
    "    model.add(MaxPooling2D(pool_size=(2, 2), strides=(2, 2)))\n",
    "    \n",
    "    model.add(Flatten())\n",
    "    model.add(Dense(100, activation='relu'))\n",
    "    model.add(Dense(num_classes, activation='softmax'))\n",
    "    \n",
    "    # Compile model\n",
    "    model.compile(optimizer='adam', loss='categorical_crossentropy',  metrics=['accuracy'])\n",
    "    return model"
   ]
  },
  {
   "cell_type": "code",
   "execution_count": 21,
   "id": "9f2d4592-14da-40b6-8c93-67d01b74c89f",
   "metadata": {},
   "outputs": [
    {
     "name": "stdout",
     "output_type": "stream",
     "text": [
      "Epoch 1/10\n",
      "300/300 - 4s - 14ms/step - accuracy: 0.8598 - loss: 0.4796 - val_accuracy: 0.9605 - val_loss: 0.1347\n",
      "Epoch 2/10\n",
      "300/300 - 3s - 10ms/step - accuracy: 0.9663 - loss: 0.1138 - val_accuracy: 0.9735 - val_loss: 0.0825\n",
      "Epoch 3/10\n",
      "300/300 - 3s - 10ms/step - accuracy: 0.9739 - loss: 0.0840 - val_accuracy: 0.9788 - val_loss: 0.0666\n",
      "Epoch 4/10\n",
      "300/300 - 3s - 9ms/step - accuracy: 0.9788 - loss: 0.0693 - val_accuracy: 0.9820 - val_loss: 0.0573\n",
      "Epoch 5/10\n",
      "300/300 - 3s - 9ms/step - accuracy: 0.9805 - loss: 0.0608 - val_accuracy: 0.9840 - val_loss: 0.0492\n",
      "Epoch 6/10\n",
      "300/300 - 3s - 9ms/step - accuracy: 0.9837 - loss: 0.0532 - val_accuracy: 0.9848 - val_loss: 0.0450\n",
      "Epoch 7/10\n",
      "300/300 - 3s - 10ms/step - accuracy: 0.9850 - loss: 0.0481 - val_accuracy: 0.9863 - val_loss: 0.0423\n",
      "Epoch 8/10\n",
      "300/300 - 3s - 9ms/step - accuracy: 0.9866 - loss: 0.0434 - val_accuracy: 0.9857 - val_loss: 0.0433\n",
      "Epoch 9/10\n",
      "300/300 - 3s - 10ms/step - accuracy: 0.9881 - loss: 0.0393 - val_accuracy: 0.9864 - val_loss: 0.0415\n",
      "Epoch 10/10\n",
      "300/300 - 3s - 9ms/step - accuracy: 0.9889 - loss: 0.0360 - val_accuracy: 0.9871 - val_loss: 0.0413\n",
      "Accuracy: 0.9871000051498413\n",
      "Error: 0.012899994850158691\n"
     ]
    }
   ],
   "source": [
    "# build the model\n",
    "model = convolutional_model()\n",
    "\n",
    "# fit the model\n",
    "model.fit(X_train, y_train, validation_data=(X_test, y_test), epochs=10, batch_size=200, verbose=2)\n",
    "\n",
    "# evaluate the model\n",
    "scores = model.evaluate(X_test, y_test, verbose=0)\n",
    "print(f\"Accuracy: {scores[1]}\\nError: {1-scores[1]}\")"
   ]
  },
  {
   "cell_type": "code",
   "execution_count": null,
   "id": "5833eab5-18b0-4490-9206-8a53322598cf",
   "metadata": {},
   "outputs": [],
   "source": []
  }
 ],
 "metadata": {
  "kernelspec": {
   "display_name": "Python 3 (ipykernel)",
   "language": "python",
   "name": "python3"
  },
  "language_info": {
   "codemirror_mode": {
    "name": "ipython",
    "version": 3
   },
   "file_extension": ".py",
   "mimetype": "text/x-python",
   "name": "python",
   "nbconvert_exporter": "python",
   "pygments_lexer": "ipython3",
   "version": "3.12.3"
  }
 },
 "nbformat": 4,
 "nbformat_minor": 5
}
